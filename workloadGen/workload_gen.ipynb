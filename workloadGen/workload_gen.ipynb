{
 "cells": [
  {
   "cell_type": "code",
   "execution_count": null,
   "id": "588791d0",
   "metadata": {},
   "outputs": [],
   "source": [
    "#!/usr/bin/python2\n",
    "\n",
    "import os"
   ]
  },
  {
   "cell_type": "markdown",
   "id": "4c2b19a0",
   "metadata": {},
   "source": [
    "## 原始数据集生成"
   ]
  },
  {
   "cell_type": "code",
   "execution_count": 2,
   "id": "de4811b5",
   "metadata": {},
   "outputs": [
    {
     "name": "stdout",
     "output_type": "stream",
     "text": [
      "workload_spec2/workloada\n"
     ]
    },
    {
     "name": "stderr",
     "output_type": "stream",
     "text": [
      "java -cp /home/hjy/Projects/ycsb-0.17.0/basic-binding/conf:/home/hjy/Projects/ycsb-0.17.0/conf:/home/hjy/Projects/ycsb-0.17.0/lib/core-0.17.0.jar:/home/hjy/Projects/ycsb-0.17.0/lib/htrace-core4-4.1.0-incubating.jar:/home/hjy/Projects/ycsb-0.17.0/lib/jackson-core-asl-1.9.4.jar:/home/hjy/Projects/ycsb-0.17.0/lib/jackson-mapper-asl-1.9.4.jar:/home/hjy/Projects/ycsb-0.17.0/lib/HdrHistogram-2.1.4.jar site.ycsb.Client -db site.ycsb.BasicDB -P workload_spec2/workloada -s -load\n",
      "Command line: -db site.ycsb.BasicDB -P workload_spec2/workloada -s -load\n",
      "YCSB Client 0.17.0\n",
      "\n",
      "Loading workload...\n",
      "Starting test.\n",
      "DBWrapper: report latency for each error is false and specific error codes to track for latency are: []\n",
      "2025-05-20 11:24:08:083 0 sec: 50 operations; ∞ current ops/sec; [CLEANUP: Count=1, Max=2, Min=2, Avg=2, 90=2, 99=2, 99.9=2, 99.99=2] [INSERT: Count=50, Max=2243, Min=45, Avg=94.54, 90=55, 99=2243, 99.9=2243, 99.99=2243] \n",
      "2025-05-20 11:24:08:091 0 sec: 50 operations; 0 current ops/sec; [CLEANUP: Count=0, Max=0, Min=9223372036854775807, Avg=NaN, 90=0, 99=0, 99.9=0, 99.99=0] [INSERT: Count=0, Max=0, Min=9223372036854775807, Avg=NaN, 90=0, 99=0, 99.9=0, 99.99=0] \n",
      "java -cp /home/hjy/Projects/ycsb-0.17.0/basic-binding/conf:/home/hjy/Projects/ycsb-0.17.0/conf:/home/hjy/Projects/ycsb-0.17.0/lib/core-0.17.0.jar:/home/hjy/Projects/ycsb-0.17.0/lib/htrace-core4-4.1.0-incubating.jar:/home/hjy/Projects/ycsb-0.17.0/lib/jackson-core-asl-1.9.4.jar:/home/hjy/Projects/ycsb-0.17.0/lib/jackson-mapper-asl-1.9.4.jar:/home/hjy/Projects/ycsb-0.17.0/lib/HdrHistogram-2.1.4.jar site.ycsb.Client -db site.ycsb.BasicDB -P workload_spec2/workloada -s -t\n",
      "Command line: -db site.ycsb.BasicDB -P workload_spec2/workloada -s -t\n",
      "YCSB Client 0.17.0\n",
      "\n",
      "Loading workload...\n",
      "Starting test.\n",
      "DBWrapper: report latency for each error is false and specific error codes to track for latency are: []\n",
      "2025-05-20 11:24:08:387 0 sec: 50 operations; ∞ current ops/sec; [READ: Count=27, Max=1090, Min=40, Avg=81.3, 90=49, 99=1090, 99.9=1090, 99.99=1090] [CLEANUP: Count=1, Max=2, Min=2, Avg=2, 90=2, 99=2, 99.9=2, 99.99=2] [UPDATE: Count=23, Max=786, Min=62, Avg=96.78, 90=73, 99=786, 99.9=786, 99.99=786] \n",
      "2025-05-20 11:24:08:396 0 sec: 50 operations; 0 current ops/sec; [READ: Count=0, Max=0, Min=9223372036854775807, Avg=NaN, 90=0, 99=0, 99.9=0, 99.99=0] [CLEANUP: Count=0, Max=0, Min=9223372036854775807, Avg=NaN, 90=0, 99=0, 99.9=0, 99.99=0] [UPDATE: Count=0, Max=0, Min=9223372036854775807, Avg=NaN, 90=0, 99=0, 99.9=0, 99.99=0] \n"
     ]
    }
   ],
   "source": [
    "ycsb_dir = \"~/Projects/ycsb-0.17.0/\"\n",
    "\n",
    "workload_spec_dir = 'workload_spec2/'\n",
    "\n",
    "workload_dir = \"workloads/\"\n",
    "\n",
    "output_dir = \"workloads/\"\n",
    "\n",
    "\n",
    "for file in os.listdir(workload_spec_dir):\n",
    "    workload_spec = os.path.join(workload_spec_dir, file)\n",
    "    out_ycsb_load = os.path.join(output_dir, 'ycsb_load_' + file)\n",
    "    out_ycsb_txn = os.path.join(output_dir, 'ycsb_txn_' + file)\n",
    "    if os.path.isfile(workload_spec):\n",
    "        print(workload_spec)\n",
    "        cmd_ycsb_load = ycsb_dir + 'bin/ycsb load basic -P ' + workload_spec + ' -s > ' + out_ycsb_load\n",
    "        cmd_ycsb_txn = ycsb_dir + 'bin/ycsb run basic -P ' + workload_spec + ' -s > ' + out_ycsb_txn\n",
    "        \n",
    "        # print(cmd_ycsb_load)\n",
    "        # print(cmd_ycsb_txn)\n",
    "        os.system(cmd_ycsb_load)\n",
    "        os.system(cmd_ycsb_txn)\n"
   ]
  },
  {
   "cell_type": "markdown",
   "id": "a437fa6e",
   "metadata": {},
   "source": [
    "## 整理数据集"
   ]
  },
  {
   "cell_type": "code",
   "execution_count": null,
   "id": "d64995b7",
   "metadata": {},
   "outputs": [
    {
     "name": "stdout",
     "output_type": "stream",
     "text": [
      "ycsb_txn_workloada\n",
      "ycsb_load_workloada\n"
     ]
    }
   ],
   "source": [
    "workload_dir = \"workloads/\"\n",
    "\n",
    "output_dir = \"workloads_arrange/\"\n",
    "\n",
    "for file in os.listdir(workload_dir):\n",
    "    print(file)\n",
    "    if \"_load_\" in file:\n",
    "        # 整理load文件，均为insert\n",
    "        f_load = open(os.path.join(workload_dir, file), 'r')\n",
    "        f_load_out = open(os.path.join(output_dir, file), 'w')\n",
    "        for line in f_load :\n",
    "            cols = line.split()\n",
    "            if len(cols) > 0 and cols[0] == \"INSERT\":\n",
    "                f_load_out.write (cols[0] + \" \" + cols[2][4:] + \"\\n\")\n",
    "        f_load.close()\n",
    "        f_load_out.close()\n",
    "        \n",
    "    elif \"_txn_\" in file:\n",
    "        # 整理run文件\n",
    "        f_txn = open(os.path.join(workload_dir, file), 'r')\n",
    "        f_txn_out = open(os.path.join(output_dir, file), 'w')\n",
    "        for line in f_txn :\n",
    "            cols = line.split()\n",
    "            if (cols[0] == 'SCAN') or (cols[0] == 'INSERT') or (cols[0] == 'READ') or (cols[0] == 'UPDATE'):\n",
    "                startkey = cols[2][4:]\n",
    "                if cols[0] == 'SCAN' :\n",
    "                    numkeys = cols[3]\n",
    "                    f_txn_out.write (cols[0] + ' ' + startkey + ' ' + numkeys + '\\n')\n",
    "                else :\n",
    "                    f_txn_out.write (cols[0] + ' ' + startkey + '\\n')\n",
    "        f_txn.close()\n",
    "        f_txn_out.close()\n",
    "        "
   ]
  },
  {
   "cell_type": "code",
   "execution_count": null,
   "id": "4ab49330",
   "metadata": {},
   "outputs": [],
   "source": [
    "# 整理insert文件\n",
    "\n",
    "f_load = open (\"workloads/a\", 'r')\n",
    "f_load_out = open (\"workloads_arrange/a\", 'w')\n",
    "for line in f_load :\n",
    "    cols = line.split()\n",
    "    if len(cols) > 0 and cols[0] == \"INSERT\":\n",
    "        f_load_out.write (cols[0] + \" \" + cols[2][4:] + \"\\n\")\n",
    "f_load.close()\n",
    "f_load_out.close()\n"
   ]
  },
  {
   "cell_type": "code",
   "execution_count": 22,
   "id": "b16d579d",
   "metadata": {},
   "outputs": [],
   "source": [
    "# 整理run文件\n",
    "f_txn = open (\"workloads/ycsb_txn_workloada\", 'r')\n",
    "f_txn_out = open (\"workloads_arrange/ycsb_txn_workloada\", 'w')\n",
    "for line in f_txn :\n",
    "    cols = line.split()\n",
    "    if (cols[0] == 'SCAN') or (cols[0] == 'INSERT') or (cols[0] == 'READ') or (cols[0] == 'UPDATE'):\n",
    "        startkey = cols[2][4:]\n",
    "        if cols[0] == 'SCAN' :\n",
    "            numkeys = cols[3]\n",
    "            f_txn_out.write (cols[0] + ' ' + startkey + ' ' + numkeys + '\\n')\n",
    "        else :\n",
    "            f_txn_out.write (cols[0] + ' ' + startkey + '\\n')\n",
    "f_txn.close()\n",
    "f_txn_out.close()\n"
   ]
  },
  {
   "cell_type": "code",
   "execution_count": null,
   "id": "e30e4531",
   "metadata": {},
   "outputs": [
    {
     "name": "stdout",
     "output_type": "stream",
     "text": [
      "a in abc\n"
     ]
    }
   ],
   "source": [
    "# 移动数据"
   ]
  }
 ],
 "metadata": {
  "kernelspec": {
   "display_name": "Python 3",
   "language": "python",
   "name": "python3"
  },
  "language_info": {
   "codemirror_mode": {
    "name": "ipython",
    "version": 3
   },
   "file_extension": ".py",
   "mimetype": "text/x-python",
   "name": "python",
   "nbconvert_exporter": "python",
   "pygments_lexer": "ipython3",
   "version": "3.8.10"
  }
 },
 "nbformat": 4,
 "nbformat_minor": 5
}
